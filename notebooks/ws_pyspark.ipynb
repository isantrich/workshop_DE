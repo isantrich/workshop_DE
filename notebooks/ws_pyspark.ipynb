{
 "cells": [
  {
   "cell_type": "code",
   "execution_count": 1,
   "id": "04cd924c-92dc-456c-abe0-9e3194f88965",
   "metadata": {},
   "outputs": [],
   "source": [
    "from pyspark.sql import SparkSession"
   ]
  },
  {
   "cell_type": "code",
   "execution_count": 2,
   "id": "8333d1af-d7c1-4d07-b27c-a11b31264184",
   "metadata": {},
   "outputs": [
    {
     "name": "stderr",
     "output_type": "stream",
     "text": [
      "24/11/25 21:19:50 WARN Utils: Your hostname, Isa resolves to a loopback address: 127.0.1.1; using 172.21.238.159 instead (on interface eth0)\n",
      "24/11/25 21:19:50 WARN Utils: Set SPARK_LOCAL_IP if you need to bind to another address\n",
      "Setting default log level to \"WARN\".\n",
      "To adjust logging level use sc.setLogLevel(newLevel). For SparkR, use setLogLevel(newLevel).\n",
      "24/11/25 21:19:52 WARN NativeCodeLoader: Unable to load native-hadoop library for your platform... using builtin-java classes where applicable\n"
     ]
    }
   ],
   "source": [
    "spark = SparkSession.builder.appName(\"MiApp\").getOrCreate()"
   ]
  },
  {
   "cell_type": "code",
   "execution_count": 3,
   "id": "2a7d06be-c607-4286-b73c-8c8c1da65e7c",
   "metadata": {},
   "outputs": [
    {
     "name": "stderr",
     "output_type": "stream",
     "text": [
      "24/11/25 21:20:52 WARN SparkSession: Using an existing Spark session; only runtime SQL configurations will take effect.\n"
     ]
    }
   ],
   "source": [
    "spark = SparkSession.builder \\\n",
    "    .appName(\"Cargar Archivos CSV\") \\\n",
    "    .config(\"spark.sql.warehouse.dir\", \"file:///C:/tmp/spark-warehouse\") \\\n",
    "    .config(\"spark.security.manager.enabled\", \"false\") \\\n",
    "    .config(\"spark.hadoop.security.authentication\", \"none\") \\\n",
    "    .getOrCreate()"
   ]
  },
  {
   "cell_type": "code",
   "execution_count": 1,
   "id": "9b044458-0b62-4605-8f78-13e65fea380f",
   "metadata": {},
   "outputs": [],
   "source": [
    "import pandas as pd"
   ]
  },
  {
   "cell_type": "code",
   "execution_count": 5,
   "id": "fbeebe8f-d6ee-4b5b-94f3-1ac554c8d961",
   "metadata": {},
   "outputs": [
    {
     "name": "stderr",
     "output_type": "stream",
     "text": [
      "                                                                                "
     ]
    }
   ],
   "source": [
    "# Ruta a los archivos\n",
    "sales_path = \"../data/raw/sales.csv\"\n",
    "product_hierarchy_path = \"../data/raw/product_hierarchy.csv\"\n",
    "store_cities_path = \"../data/raw/store_cities.csv\"\n",
    "\n",
    "# Cargar los archivos CSV\n",
    "df_sales = spark.read.csv(sales_path, header=True, inferSchema=True)\n",
    "df_product_hierarchy = spark.read.csv(product_hierarchy_path, header=True, inferSchema=True)\n",
    "df_store_cities = spark.read.csv(store_cities_path, header=True, inferSchema=True)"
   ]
  },
  {
   "cell_type": "code",
   "execution_count": 6,
   "id": "a4d06550-46a2-489c-85a4-2db45d9a07de",
   "metadata": {},
   "outputs": [
    {
     "name": "stdout",
     "output_type": "stream",
     "text": [
      "+----------+--------+----------+-----+-------+-----+-----+------------+-----------+------------+-----------+----------------+---------------------+\n",
      "|product_id|store_id|      date|sales|revenue|stock|price|promo_type_1|promo_bin_1|promo_type_2|promo_bin_2|promo_discount_2|promo_discount_type_2|\n",
      "+----------+--------+----------+-----+-------+-----+-----+------------+-----------+------------+-----------+----------------+---------------------+\n",
      "|     P0001|   S0002|2017-01-02|  0.0|    0.0|  8.0| 6.25|        PR14|       NULL|        PR03|       NULL|            NULL|                 NULL|\n",
      "|     P0001|   S0012|2017-01-02|  1.0|    5.3|  0.0| 6.25|        PR14|       NULL|        PR03|       NULL|            NULL|                 NULL|\n",
      "|     P0001|   S0013|2017-01-02|  2.0|  10.59|  0.0| 6.25|        PR14|       NULL|        PR03|       NULL|            NULL|                 NULL|\n",
      "|     P0001|   S0023|2017-01-02|  0.0|    0.0|  6.0| 6.25|        PR14|       NULL|        PR03|       NULL|            NULL|                 NULL|\n",
      "|     P0001|   S0025|2017-01-02|  0.0|    0.0|  1.0| 6.25|        PR14|       NULL|        PR03|       NULL|            NULL|                 NULL|\n",
      "|     P0001|   S0027|2017-01-02|  0.0|    0.0|  7.0| 6.25|        PR14|       NULL|        PR03|       NULL|            NULL|                 NULL|\n",
      "|     P0001|   S0040|2017-01-02|  0.0|    0.0| 19.0| 6.25|        PR14|       NULL|        PR03|       NULL|            NULL|                 NULL|\n",
      "|     P0001|   S0049|2017-01-02|  0.0|    0.0|  8.0| 6.25|        PR14|       NULL|        PR03|       NULL|            NULL|                 NULL|\n",
      "|     P0001|   S0050|2017-01-02|  0.0|    0.0|  5.0| 6.25|        PR14|       NULL|        PR03|       NULL|            NULL|                 NULL|\n",
      "|     P0001|   S0051|2017-01-02|  0.0|    0.0|  6.0| 6.25|        PR14|       NULL|        PR03|       NULL|            NULL|                 NULL|\n",
      "|     P0001|   S0055|2017-01-02|  0.0|    0.0|  6.0| 6.25|        PR14|       NULL|        PR03|       NULL|            NULL|                 NULL|\n",
      "|     P0001|   S0056|2017-01-02|  1.0|    5.3|  6.0| 6.25|        PR14|       NULL|        PR03|       NULL|            NULL|                 NULL|\n",
      "|     P0001|   S0062|2017-01-02|  0.0|    0.0|  2.0| 6.25|        PR14|       NULL|        PR03|       NULL|            NULL|                 NULL|\n",
      "|     P0001|   S0063|2017-01-02|  0.0|    0.0|  7.0| 6.25|        PR14|       NULL|        PR03|       NULL|            NULL|                 NULL|\n",
      "|     P0001|   S0066|2017-01-02|  0.0|    0.0|  1.0| 6.25|        PR14|       NULL|        PR03|       NULL|            NULL|                 NULL|\n",
      "|     P0001|   S0078|2017-01-02|  0.0|    0.0|  6.0| 6.25|        PR14|       NULL|        PR03|       NULL|            NULL|                 NULL|\n",
      "|     P0001|   S0082|2017-01-02|  0.0|    0.0|  4.0| 6.25|        PR14|       NULL|        PR03|       NULL|            NULL|                 NULL|\n",
      "|     P0001|   S0083|2017-01-02|  0.0|    0.0| 10.0| 6.25|        PR14|       NULL|        PR03|       NULL|            NULL|                 NULL|\n",
      "|     P0001|   S0087|2017-01-02|  0.0|    0.0| 10.0| 6.25|        PR14|       NULL|        PR03|       NULL|            NULL|                 NULL|\n",
      "|     P0001|   S0094|2017-01-02|  0.0|    0.0|  6.0| 6.25|        PR14|       NULL|        PR03|       NULL|            NULL|                 NULL|\n",
      "+----------+--------+----------+-----+-------+-----+-----+------------+-----------+------------+-----------+----------------+---------------------+\n",
      "only showing top 20 rows\n",
      "\n"
     ]
    }
   ],
   "source": [
    "df_sales.show()"
   ]
  },
  {
   "cell_type": "code",
   "execution_count": 70,
   "id": "bab9902e-d198-492e-8ffa-fe46049c24c5",
   "metadata": {},
   "outputs": [
    {
     "data": {
      "text/html": [
       "<div>\n",
       "<style scoped>\n",
       "    .dataframe tbody tr th:only-of-type {\n",
       "        vertical-align: middle;\n",
       "    }\n",
       "\n",
       "    .dataframe tbody tr th {\n",
       "        vertical-align: top;\n",
       "    }\n",
       "\n",
       "    .dataframe thead th {\n",
       "        text-align: right;\n",
       "    }\n",
       "</style>\n",
       "<table border=\"1\" class=\"dataframe\">\n",
       "  <thead>\n",
       "    <tr style=\"text-align: right;\">\n",
       "      <th></th>\n",
       "      <th>product_id</th>\n",
       "      <th>product_length</th>\n",
       "      <th>product_depth</th>\n",
       "      <th>product_width</th>\n",
       "      <th>cluster_id</th>\n",
       "      <th>hierarchy1_id</th>\n",
       "      <th>hierarchy2_id</th>\n",
       "      <th>hierarchy3_id</th>\n",
       "      <th>hierarchy4_id</th>\n",
       "      <th>hierarchy5_id</th>\n",
       "    </tr>\n",
       "  </thead>\n",
       "  <tbody>\n",
       "    <tr>\n",
       "      <th>0</th>\n",
       "      <td>P0000</td>\n",
       "      <td>5.0</td>\n",
       "      <td>20.0</td>\n",
       "      <td>12.0</td>\n",
       "      <td>NaN</td>\n",
       "      <td>H00</td>\n",
       "      <td>H0004</td>\n",
       "      <td>H000401</td>\n",
       "      <td>H00040105</td>\n",
       "      <td>H0004010534</td>\n",
       "    </tr>\n",
       "    <tr>\n",
       "      <th>1</th>\n",
       "      <td>P0001</td>\n",
       "      <td>13.5</td>\n",
       "      <td>22.0</td>\n",
       "      <td>20.0</td>\n",
       "      <td>cluster_5</td>\n",
       "      <td>H01</td>\n",
       "      <td>H0105</td>\n",
       "      <td>H010501</td>\n",
       "      <td>H01050100</td>\n",
       "      <td>H0105010006</td>\n",
       "    </tr>\n",
       "    <tr>\n",
       "      <th>2</th>\n",
       "      <td>P0002</td>\n",
       "      <td>22.0</td>\n",
       "      <td>40.0</td>\n",
       "      <td>22.0</td>\n",
       "      <td>cluster_0</td>\n",
       "      <td>H03</td>\n",
       "      <td>H0315</td>\n",
       "      <td>H031508</td>\n",
       "      <td>H03150800</td>\n",
       "      <td>H0315080028</td>\n",
       "    </tr>\n",
       "    <tr>\n",
       "      <th>3</th>\n",
       "      <td>P0004</td>\n",
       "      <td>2.0</td>\n",
       "      <td>13.0</td>\n",
       "      <td>4.0</td>\n",
       "      <td>cluster_3</td>\n",
       "      <td>H03</td>\n",
       "      <td>H0314</td>\n",
       "      <td>H031405</td>\n",
       "      <td>H03140500</td>\n",
       "      <td>H0314050003</td>\n",
       "    </tr>\n",
       "    <tr>\n",
       "      <th>4</th>\n",
       "      <td>P0005</td>\n",
       "      <td>16.0</td>\n",
       "      <td>30.0</td>\n",
       "      <td>16.0</td>\n",
       "      <td>cluster_9</td>\n",
       "      <td>H03</td>\n",
       "      <td>H0312</td>\n",
       "      <td>H031211</td>\n",
       "      <td>H03121109</td>\n",
       "      <td>H0312110917</td>\n",
       "    </tr>\n",
       "  </tbody>\n",
       "</table>\n",
       "</div>"
      ],
      "text/plain": [
       "  product_id  product_length  product_depth  product_width cluster_id  \\\n",
       "0      P0000             5.0           20.0           12.0        NaN   \n",
       "1      P0001            13.5           22.0           20.0  cluster_5   \n",
       "2      P0002            22.0           40.0           22.0  cluster_0   \n",
       "3      P0004             2.0           13.0            4.0  cluster_3   \n",
       "4      P0005            16.0           30.0           16.0  cluster_9   \n",
       "\n",
       "  hierarchy1_id hierarchy2_id hierarchy3_id hierarchy4_id hierarchy5_id  \n",
       "0           H00         H0004       H000401     H00040105   H0004010534  \n",
       "1           H01         H0105       H010501     H01050100   H0105010006  \n",
       "2           H03         H0315       H031508     H03150800   H0315080028  \n",
       "3           H03         H0314       H031405     H03140500   H0314050003  \n",
       "4           H03         H0312       H031211     H03121109   H0312110917  "
      ]
     },
     "execution_count": 70,
     "metadata": {},
     "output_type": "execute_result"
    }
   ],
   "source": [
    "df_product_hierarchy.head()"
   ]
  },
  {
   "cell_type": "code",
   "execution_count": 71,
   "id": "e5769f18-4e5a-4af6-9a91-bec50a1ff1b5",
   "metadata": {},
   "outputs": [
    {
     "data": {
      "text/html": [
       "<div>\n",
       "<style scoped>\n",
       "    .dataframe tbody tr th:only-of-type {\n",
       "        vertical-align: middle;\n",
       "    }\n",
       "\n",
       "    .dataframe tbody tr th {\n",
       "        vertical-align: top;\n",
       "    }\n",
       "\n",
       "    .dataframe thead th {\n",
       "        text-align: right;\n",
       "    }\n",
       "</style>\n",
       "<table border=\"1\" class=\"dataframe\">\n",
       "  <thead>\n",
       "    <tr style=\"text-align: right;\">\n",
       "      <th></th>\n",
       "      <th>store_id</th>\n",
       "      <th>storetype_id</th>\n",
       "      <th>store_size</th>\n",
       "      <th>city_id</th>\n",
       "    </tr>\n",
       "  </thead>\n",
       "  <tbody>\n",
       "    <tr>\n",
       "      <th>0</th>\n",
       "      <td>S0091</td>\n",
       "      <td>ST04</td>\n",
       "      <td>19</td>\n",
       "      <td>C013</td>\n",
       "    </tr>\n",
       "    <tr>\n",
       "      <th>1</th>\n",
       "      <td>S0012</td>\n",
       "      <td>ST04</td>\n",
       "      <td>28</td>\n",
       "      <td>C005</td>\n",
       "    </tr>\n",
       "    <tr>\n",
       "      <th>2</th>\n",
       "      <td>S0045</td>\n",
       "      <td>ST04</td>\n",
       "      <td>17</td>\n",
       "      <td>C008</td>\n",
       "    </tr>\n",
       "    <tr>\n",
       "      <th>3</th>\n",
       "      <td>S0032</td>\n",
       "      <td>ST03</td>\n",
       "      <td>14</td>\n",
       "      <td>C019</td>\n",
       "    </tr>\n",
       "    <tr>\n",
       "      <th>4</th>\n",
       "      <td>S0027</td>\n",
       "      <td>ST04</td>\n",
       "      <td>24</td>\n",
       "      <td>C022</td>\n",
       "    </tr>\n",
       "  </tbody>\n",
       "</table>\n",
       "</div>"
      ],
      "text/plain": [
       "  store_id storetype_id  store_size city_id\n",
       "0    S0091         ST04          19    C013\n",
       "1    S0012         ST04          28    C005\n",
       "2    S0045         ST04          17    C008\n",
       "3    S0032         ST03          14    C019\n",
       "4    S0027         ST04          24    C022"
      ]
     },
     "execution_count": 71,
     "metadata": {},
     "output_type": "execute_result"
    }
   ],
   "source": [
    "df_store_cities.head()"
   ]
  },
  {
   "cell_type": "markdown",
   "id": "708e9477-4686-49b3-9cb2-99c553b392cb",
   "metadata": {},
   "source": [
    "## **Exploración de datos**"
   ]
  },
  {
   "cell_type": "code",
   "execution_count": 65,
   "id": "2a6cc9ec-7b51-4a6b-b1c0-88377f87420d",
   "metadata": {},
   "outputs": [
    {
     "name": "stdout",
     "output_type": "stream",
     "text": [
      "Total de registros con decimales en 'sales': 1218907\n"
     ]
    }
   ],
   "source": [
    "total_decimal_sales = len(df_sales[df_sales['sales'] % 1 != 0])\n",
    "print(f\"Total de registros con decimales en 'sales': {total_decimal_sales}\")"
   ]
  },
  {
   "cell_type": "code",
   "execution_count": 67,
   "id": "4a3f73ea-429b-4042-936a-12a7811dec30",
   "metadata": {},
   "outputs": [
    {
     "name": "stdout",
     "output_type": "stream",
     "text": [
      "Total de registros en el dataset: 19454838\n"
     ]
    }
   ],
   "source": [
    "total_records = len(df_sales)\n",
    "print(f\"Total de registros en el dataset: {total_records}\")"
   ]
  },
  {
   "cell_type": "code",
   "execution_count": 64,
   "id": "555aaf8d-5d8c-4d8a-a96c-b1e2a097d8e8",
   "metadata": {},
   "outputs": [
    {
     "name": "stdout",
     "output_type": "stream",
     "text": [
      "   product_id  count\n",
      "0       P0413  13278\n",
      "1       P0663   8185\n",
      "2       P0125   8173\n",
      "3       P0131   8171\n",
      "4       P0333   8156\n",
      "..        ...    ...\n",
      "95      P0477   4589\n",
      "96      P0054   4583\n",
      "97      P0039   4554\n",
      "98      P0087   4545\n",
      "99      P0217   4517\n",
      "\n",
      "[100 rows x 2 columns]\n",
      "Número total de productos con ventas decimales: 605\n"
     ]
    }
   ],
   "source": [
    "# Filtrar las filas con valores decimales en 'sales'\n",
    "decimal_sales = df_sales[df_sales['sales'] % 1 != 0]\n",
    "\n",
    "# Obtener los product_id únicos con este problema\n",
    "products_with_decimal_sales = decimal_sales['product_id'].unique()\n",
    "\n",
    "# Convertir a un DataFrame para un análisis más fácil\n",
    "products_with_decimal_sales_df = pd.DataFrame(products_with_decimal_sales, columns=['product_id'])\n",
    "\n",
    "# Agregar conteo de registros por product_id\n",
    "product_decimal_count = decimal_sales['product_id'].value_counts().reset_index()\n",
    "product_decimal_count.columns = ['product_id', 'count']\n",
    "\n",
    "# Mostrar los primeros valores\n",
    "print(product_decimal_count.head(100))\n",
    "\n",
    "# Número total de productos con ventas decimales\n",
    "print(f\"Número total de productos con ventas decimales: {len(products_with_decimal_sales)}\")\n"
   ]
  },
  {
   "cell_type": "code",
   "execution_count": 9,
   "id": "30d86230-da64-4731-8463-6aa82f329ea3",
   "metadata": {},
   "outputs": [
    {
     "data": {
      "text/html": [
       "<div>\n",
       "<style scoped>\n",
       "    .dataframe tbody tr th:only-of-type {\n",
       "        vertical-align: middle;\n",
       "    }\n",
       "\n",
       "    .dataframe tbody tr th {\n",
       "        vertical-align: top;\n",
       "    }\n",
       "\n",
       "    .dataframe thead th {\n",
       "        text-align: right;\n",
       "    }\n",
       "</style>\n",
       "<table border=\"1\" class=\"dataframe\">\n",
       "  <thead>\n",
       "    <tr style=\"text-align: right;\">\n",
       "      <th></th>\n",
       "      <th>store_id</th>\n",
       "      <th>storetype_id</th>\n",
       "      <th>store_size</th>\n",
       "      <th>city_id</th>\n",
       "    </tr>\n",
       "  </thead>\n",
       "  <tbody>\n",
       "    <tr>\n",
       "      <th>0</th>\n",
       "      <td>S0091</td>\n",
       "      <td>ST04</td>\n",
       "      <td>19</td>\n",
       "      <td>C013</td>\n",
       "    </tr>\n",
       "    <tr>\n",
       "      <th>1</th>\n",
       "      <td>S0012</td>\n",
       "      <td>ST04</td>\n",
       "      <td>28</td>\n",
       "      <td>C005</td>\n",
       "    </tr>\n",
       "    <tr>\n",
       "      <th>2</th>\n",
       "      <td>S0045</td>\n",
       "      <td>ST04</td>\n",
       "      <td>17</td>\n",
       "      <td>C008</td>\n",
       "    </tr>\n",
       "    <tr>\n",
       "      <th>3</th>\n",
       "      <td>S0032</td>\n",
       "      <td>ST03</td>\n",
       "      <td>14</td>\n",
       "      <td>C019</td>\n",
       "    </tr>\n",
       "    <tr>\n",
       "      <th>4</th>\n",
       "      <td>S0027</td>\n",
       "      <td>ST04</td>\n",
       "      <td>24</td>\n",
       "      <td>C022</td>\n",
       "    </tr>\n",
       "  </tbody>\n",
       "</table>\n",
       "</div>"
      ],
      "text/plain": [
       "  store_id storetype_id  store_size city_id\n",
       "0    S0091         ST04          19    C013\n",
       "1    S0012         ST04          28    C005\n",
       "2    S0045         ST04          17    C008\n",
       "3    S0032         ST03          14    C019\n",
       "4    S0027         ST04          24    C022"
      ]
     },
     "execution_count": 9,
     "metadata": {},
     "output_type": "execute_result"
    }
   ],
   "source": [
    "df_store_cities.head()"
   ]
  },
  {
   "cell_type": "code",
   "execution_count": 55,
   "id": "69ce0657-a1df-4f24-8fef-13419699d09c",
   "metadata": {},
   "outputs": [
    {
     "data": {
      "text/html": [
       "<div>\n",
       "<style scoped>\n",
       "    .dataframe tbody tr th:only-of-type {\n",
       "        vertical-align: middle;\n",
       "    }\n",
       "\n",
       "    .dataframe tbody tr th {\n",
       "        vertical-align: top;\n",
       "    }\n",
       "\n",
       "    .dataframe thead th {\n",
       "        text-align: right;\n",
       "    }\n",
       "</style>\n",
       "<table border=\"1\" class=\"dataframe\">\n",
       "  <thead>\n",
       "    <tr style=\"text-align: right;\">\n",
       "      <th></th>\n",
       "      <th>Unique Value</th>\n",
       "      <th>Count</th>\n",
       "    </tr>\n",
       "  </thead>\n",
       "  <tbody>\n",
       "    <tr>\n",
       "      <th>0</th>\n",
       "      <td>0.000</td>\n",
       "      <td>15074394</td>\n",
       "    </tr>\n",
       "    <tr>\n",
       "      <th>1</th>\n",
       "      <td>1.000</td>\n",
       "      <td>1794179</td>\n",
       "    </tr>\n",
       "    <tr>\n",
       "      <th>2</th>\n",
       "      <td>NaN</td>\n",
       "      <td>1190762</td>\n",
       "    </tr>\n",
       "    <tr>\n",
       "      <th>3</th>\n",
       "      <td>2.000</td>\n",
       "      <td>621461</td>\n",
       "    </tr>\n",
       "    <tr>\n",
       "      <th>4</th>\n",
       "      <td>3.000</td>\n",
       "      <td>266242</td>\n",
       "    </tr>\n",
       "    <tr>\n",
       "      <th>...</th>\n",
       "      <td>...</td>\n",
       "      <td>...</td>\n",
       "    </tr>\n",
       "    <tr>\n",
       "      <th>94</th>\n",
       "      <td>68.000</td>\n",
       "      <td>51</td>\n",
       "    </tr>\n",
       "    <tr>\n",
       "      <th>96</th>\n",
       "      <td>0.308</td>\n",
       "      <td>50</td>\n",
       "    </tr>\n",
       "    <tr>\n",
       "      <th>97</th>\n",
       "      <td>0.232</td>\n",
       "      <td>50</td>\n",
       "    </tr>\n",
       "    <tr>\n",
       "      <th>98</th>\n",
       "      <td>0.256</td>\n",
       "      <td>49</td>\n",
       "    </tr>\n",
       "    <tr>\n",
       "      <th>99</th>\n",
       "      <td>72.000</td>\n",
       "      <td>48</td>\n",
       "    </tr>\n",
       "  </tbody>\n",
       "</table>\n",
       "<p>100 rows × 2 columns</p>\n",
       "</div>"
      ],
      "text/plain": [
       "    Unique Value     Count\n",
       "0          0.000  15074394\n",
       "1          1.000   1794179\n",
       "2            NaN   1190762\n",
       "3          2.000    621461\n",
       "4          3.000    266242\n",
       "..           ...       ...\n",
       "94        68.000        51\n",
       "96         0.308        50\n",
       "97         0.232        50\n",
       "98         0.256        49\n",
       "99        72.000        48\n",
       "\n",
       "[100 rows x 2 columns]"
      ]
     },
     "execution_count": 55,
     "metadata": {},
     "output_type": "execute_result"
    }
   ],
   "source": [
    "# Contar las frecuencias de los valores únicos en la columna 10\n",
    "value_counts = (\n",
    "    df_sales.iloc[:, 3]\n",
    "    .value_counts(dropna=False)  # Incluye NaN si los hay\n",
    "    .reset_index()  # Convierte a DataFrame\n",
    ")\n",
    "value_counts.columns = ['Unique Value', 'Count']  # Renombrar columnas\n",
    "\n",
    "# Ordenar por frecuencia de mayor a menor\n",
    "value_counts_sorted = value_counts.sort_values(by='Count', ascending=False)\n",
    "\n",
    "value_counts_sorted.head(100)"
   ]
  },
  {
   "cell_type": "code",
   "execution_count": 57,
   "id": "24caeebc-0603-409a-a7d9-dbf303390d2a",
   "metadata": {
    "scrolled": true
   },
   "outputs": [
    {
     "data": {
      "text/html": [
       "<div>\n",
       "<style scoped>\n",
       "    .dataframe tbody tr th:only-of-type {\n",
       "        vertical-align: middle;\n",
       "    }\n",
       "\n",
       "    .dataframe tbody tr th {\n",
       "        vertical-align: top;\n",
       "    }\n",
       "\n",
       "    .dataframe thead th {\n",
       "        text-align: right;\n",
       "    }\n",
       "</style>\n",
       "<table border=\"1\" class=\"dataframe\">\n",
       "  <thead>\n",
       "    <tr style=\"text-align: right;\">\n",
       "      <th></th>\n",
       "      <th>product_id</th>\n",
       "      <th>store_id</th>\n",
       "      <th>date</th>\n",
       "      <th>sales</th>\n",
       "      <th>revenue</th>\n",
       "      <th>stock</th>\n",
       "      <th>price</th>\n",
       "      <th>promo_type_1</th>\n",
       "      <th>promo_bin_1</th>\n",
       "      <th>promo_type_2</th>\n",
       "      <th>promo_bin_2</th>\n",
       "      <th>promo_discount_2</th>\n",
       "      <th>promo_discount_type_2</th>\n",
       "    </tr>\n",
       "  </thead>\n",
       "  <tbody>\n",
       "    <tr>\n",
       "      <th>5335</th>\n",
       "      <td>P0298</td>\n",
       "      <td>S0123</td>\n",
       "      <td>2017-01-02</td>\n",
       "      <td>0.530</td>\n",
       "      <td>3.68</td>\n",
       "      <td>6.640</td>\n",
       "      <td>7.49</td>\n",
       "      <td>PR14</td>\n",
       "      <td>NaN</td>\n",
       "      <td>PR03</td>\n",
       "      <td>NaN</td>\n",
       "      <td>NaN</td>\n",
       "      <td>NaN</td>\n",
       "    </tr>\n",
       "    <tr>\n",
       "      <th>5336</th>\n",
       "      <td>P0298</td>\n",
       "      <td>S0139</td>\n",
       "      <td>2017-01-02</td>\n",
       "      <td>1.414</td>\n",
       "      <td>9.81</td>\n",
       "      <td>28.428</td>\n",
       "      <td>7.49</td>\n",
       "      <td>PR14</td>\n",
       "      <td>NaN</td>\n",
       "      <td>PR03</td>\n",
       "      <td>NaN</td>\n",
       "      <td>NaN</td>\n",
       "      <td>NaN</td>\n",
       "    </tr>\n",
       "    <tr>\n",
       "      <th>5469</th>\n",
       "      <td>P0316</td>\n",
       "      <td>S0062</td>\n",
       "      <td>2017-01-02</td>\n",
       "      <td>2.290</td>\n",
       "      <td>127.00</td>\n",
       "      <td>0.000</td>\n",
       "      <td>59.90</td>\n",
       "      <td>PR14</td>\n",
       "      <td>NaN</td>\n",
       "      <td>PR03</td>\n",
       "      <td>NaN</td>\n",
       "      <td>NaN</td>\n",
       "      <td>NaN</td>\n",
       "    </tr>\n",
       "    <tr>\n",
       "      <th>5470</th>\n",
       "      <td>P0316</td>\n",
       "      <td>S0085</td>\n",
       "      <td>2017-01-02</td>\n",
       "      <td>2.580</td>\n",
       "      <td>143.09</td>\n",
       "      <td>0.000</td>\n",
       "      <td>59.90</td>\n",
       "      <td>PR14</td>\n",
       "      <td>NaN</td>\n",
       "      <td>PR03</td>\n",
       "      <td>NaN</td>\n",
       "      <td>NaN</td>\n",
       "      <td>NaN</td>\n",
       "    </tr>\n",
       "    <tr>\n",
       "      <th>7270</th>\n",
       "      <td>P0413</td>\n",
       "      <td>S0001</td>\n",
       "      <td>2017-01-02</td>\n",
       "      <td>1.695</td>\n",
       "      <td>3.12</td>\n",
       "      <td>4.415</td>\n",
       "      <td>1.99</td>\n",
       "      <td>PR03</td>\n",
       "      <td>verylow</td>\n",
       "      <td>PR03</td>\n",
       "      <td>NaN</td>\n",
       "      <td>NaN</td>\n",
       "      <td>NaN</td>\n",
       "    </tr>\n",
       "  </tbody>\n",
       "</table>\n",
       "</div>"
      ],
      "text/plain": [
       "     product_id store_id       date  sales  revenue   stock  price  \\\n",
       "5335      P0298    S0123 2017-01-02  0.530     3.68   6.640   7.49   \n",
       "5336      P0298    S0139 2017-01-02  1.414     9.81  28.428   7.49   \n",
       "5469      P0316    S0062 2017-01-02  2.290   127.00   0.000  59.90   \n",
       "5470      P0316    S0085 2017-01-02  2.580   143.09   0.000  59.90   \n",
       "7270      P0413    S0001 2017-01-02  1.695     3.12   4.415   1.99   \n",
       "\n",
       "     promo_type_1 promo_bin_1 promo_type_2 promo_bin_2  promo_discount_2  \\\n",
       "5335         PR14         NaN         PR03         NaN               NaN   \n",
       "5336         PR14         NaN         PR03         NaN               NaN   \n",
       "5469         PR14         NaN         PR03         NaN               NaN   \n",
       "5470         PR14         NaN         PR03         NaN               NaN   \n",
       "7270         PR03     verylow         PR03         NaN               NaN   \n",
       "\n",
       "     promo_discount_type_2  \n",
       "5335                   NaN  \n",
       "5336                   NaN  \n",
       "5469                   NaN  \n",
       "5470                   NaN  \n",
       "7270                   NaN  "
      ]
     },
     "execution_count": 57,
     "metadata": {},
     "output_type": "execute_result"
    }
   ],
   "source": [
    "import numpy as np\n",
    "\n",
    "# Filtrar filas donde sales tiene un número decimal\n",
    "df_sales_with_decimals = df_sales[np.modf(df_sales['sales'])[0] != 0]\n",
    "\n",
    "df_sales_with_decimals.head()\n"
   ]
  },
  {
   "cell_type": "markdown",
   "id": "df7c77f9-f2ab-4983-b33c-73705cdcafec",
   "metadata": {},
   "source": [
    "# **Análisis para limpieza**"
   ]
  },
  {
   "cell_type": "code",
   "execution_count": 59,
   "id": "01d2ab58-ae0a-4d65-b5da-d6a006c24c9c",
   "metadata": {},
   "outputs": [
    {
     "data": {
      "text/html": [
       "<div>\n",
       "<style scoped>\n",
       "    .dataframe tbody tr th:only-of-type {\n",
       "        vertical-align: middle;\n",
       "    }\n",
       "\n",
       "    .dataframe tbody tr th {\n",
       "        vertical-align: top;\n",
       "    }\n",
       "\n",
       "    .dataframe thead th {\n",
       "        text-align: right;\n",
       "    }\n",
       "</style>\n",
       "<table border=\"1\" class=\"dataframe\">\n",
       "  <thead>\n",
       "    <tr style=\"text-align: right;\">\n",
       "      <th></th>\n",
       "      <th>product_id</th>\n",
       "      <th>store_id</th>\n",
       "      <th>date</th>\n",
       "      <th>sales</th>\n",
       "      <th>revenue</th>\n",
       "      <th>stock</th>\n",
       "      <th>price</th>\n",
       "      <th>promo_type_1</th>\n",
       "      <th>promo_bin_1</th>\n",
       "      <th>promo_type_2</th>\n",
       "      <th>promo_bin_2</th>\n",
       "      <th>promo_discount_2</th>\n",
       "      <th>promo_discount_type_2</th>\n",
       "    </tr>\n",
       "  </thead>\n",
       "  <tbody>\n",
       "    <tr>\n",
       "      <th>5335</th>\n",
       "      <td>P0298</td>\n",
       "      <td>S0123</td>\n",
       "      <td>2017-01-02</td>\n",
       "      <td>0.530</td>\n",
       "      <td>3.68</td>\n",
       "      <td>6.640</td>\n",
       "      <td>7.49</td>\n",
       "      <td>PR14</td>\n",
       "      <td>NaN</td>\n",
       "      <td>PR03</td>\n",
       "      <td>NaN</td>\n",
       "      <td>NaN</td>\n",
       "      <td>NaN</td>\n",
       "    </tr>\n",
       "    <tr>\n",
       "      <th>5336</th>\n",
       "      <td>P0298</td>\n",
       "      <td>S0139</td>\n",
       "      <td>2017-01-02</td>\n",
       "      <td>1.414</td>\n",
       "      <td>9.81</td>\n",
       "      <td>28.428</td>\n",
       "      <td>7.49</td>\n",
       "      <td>PR14</td>\n",
       "      <td>NaN</td>\n",
       "      <td>PR03</td>\n",
       "      <td>NaN</td>\n",
       "      <td>NaN</td>\n",
       "      <td>NaN</td>\n",
       "    </tr>\n",
       "    <tr>\n",
       "      <th>5469</th>\n",
       "      <td>P0316</td>\n",
       "      <td>S0062</td>\n",
       "      <td>2017-01-02</td>\n",
       "      <td>2.290</td>\n",
       "      <td>127.00</td>\n",
       "      <td>0.000</td>\n",
       "      <td>59.90</td>\n",
       "      <td>PR14</td>\n",
       "      <td>NaN</td>\n",
       "      <td>PR03</td>\n",
       "      <td>NaN</td>\n",
       "      <td>NaN</td>\n",
       "      <td>NaN</td>\n",
       "    </tr>\n",
       "    <tr>\n",
       "      <th>5470</th>\n",
       "      <td>P0316</td>\n",
       "      <td>S0085</td>\n",
       "      <td>2017-01-02</td>\n",
       "      <td>2.580</td>\n",
       "      <td>143.09</td>\n",
       "      <td>0.000</td>\n",
       "      <td>59.90</td>\n",
       "      <td>PR14</td>\n",
       "      <td>NaN</td>\n",
       "      <td>PR03</td>\n",
       "      <td>NaN</td>\n",
       "      <td>NaN</td>\n",
       "      <td>NaN</td>\n",
       "    </tr>\n",
       "    <tr>\n",
       "      <th>7270</th>\n",
       "      <td>P0413</td>\n",
       "      <td>S0001</td>\n",
       "      <td>2017-01-02</td>\n",
       "      <td>1.695</td>\n",
       "      <td>3.12</td>\n",
       "      <td>4.415</td>\n",
       "      <td>1.99</td>\n",
       "      <td>PR03</td>\n",
       "      <td>verylow</td>\n",
       "      <td>PR03</td>\n",
       "      <td>NaN</td>\n",
       "      <td>NaN</td>\n",
       "      <td>NaN</td>\n",
       "    </tr>\n",
       "  </tbody>\n",
       "</table>\n",
       "</div>"
      ],
      "text/plain": [
       "     product_id store_id       date  sales  revenue   stock  price  \\\n",
       "5335      P0298    S0123 2017-01-02  0.530     3.68   6.640   7.49   \n",
       "5336      P0298    S0139 2017-01-02  1.414     9.81  28.428   7.49   \n",
       "5469      P0316    S0062 2017-01-02  2.290   127.00   0.000  59.90   \n",
       "5470      P0316    S0085 2017-01-02  2.580   143.09   0.000  59.90   \n",
       "7270      P0413    S0001 2017-01-02  1.695     3.12   4.415   1.99   \n",
       "\n",
       "     promo_type_1 promo_bin_1 promo_type_2 promo_bin_2  promo_discount_2  \\\n",
       "5335         PR14         NaN         PR03         NaN               NaN   \n",
       "5336         PR14         NaN         PR03         NaN               NaN   \n",
       "5469         PR14         NaN         PR03         NaN               NaN   \n",
       "5470         PR14         NaN         PR03         NaN               NaN   \n",
       "7270         PR03     verylow         PR03         NaN               NaN   \n",
       "\n",
       "     promo_discount_type_2  \n",
       "5335                   NaN  \n",
       "5336                   NaN  \n",
       "5469                   NaN  \n",
       "5470                   NaN  \n",
       "7270                   NaN  "
      ]
     },
     "execution_count": 59,
     "metadata": {},
     "output_type": "execute_result"
    }
   ],
   "source": [
    "decimal_sales = df_sales[df_sales['sales'] % 1 != 0]\n",
    "decimal_sales.head()"
   ]
  },
  {
   "cell_type": "code",
   "execution_count": 60,
   "id": "61c2c974-8c50-40d5-92db-99555aeaebc7",
   "metadata": {},
   "outputs": [
    {
     "name": "stdout",
     "output_type": "stream",
     "text": [
      "Porcentaje de valores decimales: 6.27%\n"
     ]
    }
   ],
   "source": [
    "print(f\"Porcentaje de valores decimales: {len(decimal_sales) / len(df_sales) * 100:.2f}%\")"
   ]
  },
  {
   "cell_type": "code",
   "execution_count": 11,
   "id": "0007f4bf-b0ed-4c80-ae2e-b168808d5b41",
   "metadata": {},
   "outputs": [],
   "source": [
    "df_sales['date'] = pd.to_datetime(df_sales['date'])"
   ]
  },
  {
   "cell_type": "code",
   "execution_count": 61,
   "id": "8bc2dd7a-c362-499a-a12b-123eb9362d47",
   "metadata": {},
   "outputs": [
    {
     "name": "stdout",
     "output_type": "stream",
     "text": [
      "         Range  Count\n",
      "0  Entre 0 y 1  12201\n",
      "1  Entre 1 y 2   5674\n",
      "2    Mayor a 6   4152\n",
      "3  Entre 3 y 4   2108\n",
      "4  Entre 2 y 3   2053\n",
      "5  Entre 4 y 5   1050\n",
      "6  Entre 5 y 6    907\n",
      "7    Menor a 0      0\n"
     ]
    },
    {
     "name": "stderr",
     "output_type": "stream",
     "text": [
      "C:\\Users\\zantr\\AppData\\Local\\Temp\\ipykernel_21048\\788316473.py:5: SettingWithCopyWarning: \n",
      "A value is trying to be set on a copy of a slice from a DataFrame.\n",
      "Try using .loc[row_indexer,col_indexer] = value instead\n",
      "\n",
      "See the caveats in the documentation: https://pandas.pydata.org/pandas-docs/stable/user_guide/indexing.html#returning-a-view-versus-a-copy\n",
      "  decimal_sales['range'] = pd.cut(\n"
     ]
    }
   ],
   "source": [
    "# Filtrar los valores decimales\n",
    "decimal_sales = df_sales[df_sales['sales'] % 1 != 0]\n",
    "\n",
    "# Crear una nueva columna para el rango de cada valor decimal\n",
    "decimal_sales['range'] = pd.cut(\n",
    "    decimal_sales['sales'],\n",
    "    bins=[-float('inf'), 0, 1, 2, 3, 4, 5, 6, float('inf')],\n",
    "    labels=[\"Menor a 0\", \"Entre 0 y 1\", \"Entre 1 y 2\", \"Entre 2 y 3\", \"Entre 3 y 4\", \"Entre 4 y 5\", \"Entre 5 y 6\", \"Mayor a 6\"]\n",
    ")\n",
    "\n",
    "# Contar la cantidad de valores en cada rango\n",
    "decimal_analysis = decimal_sales['range'].value_counts().reset_index()\n",
    "decimal_analysis.columns = ['Range', 'Count']\n",
    "\n",
    "# Mostrar el resultado\n",
    "print(decimal_analysis)\n"
   ]
  },
  {
   "cell_type": "markdown",
   "id": "c8532f9f-f113-4936-936b-b4b9792c8fc1",
   "metadata": {},
   "source": [
    "## **Productos más populares cada mes durante el año 2018**"
   ]
  },
  {
   "cell_type": "code",
   "execution_count": 32,
   "id": "2c5cd05a-e1b9-4c75-87a9-f2e70d3266e0",
   "metadata": {},
   "outputs": [],
   "source": [
    "df_2018 = df_sales[df_sales['date'].dt.year == 2018].copy()\n",
    "df_2018['month'] = df_2018['date'].dt.month_name()\n",
    "df_2018['month_num'] = df_2018['date'].dt.month"
   ]
  },
  {
   "cell_type": "code",
   "execution_count": 34,
   "id": "8e85a720-fbc4-4447-abed-5dcbf732e86a",
   "metadata": {},
   "outputs": [],
   "source": [
    "product_sales = (\n",
    "    df_2018.groupby(['month_num','month', 'product_id'])['sales']\n",
    "    .sum()\n",
    "    .reset_index()\n",
    "    .sort_values(['month_num', 'sales'], ascending=[True, False])\n",
    ")"
   ]
  },
  {
   "cell_type": "code",
   "execution_count": 37,
   "id": "1df770ff-5cdf-4fab-ad04-dd773c30a468",
   "metadata": {},
   "outputs": [],
   "source": [
    "top_5_products_by_month = (\n",
    "    product_sales.groupby('month')\n",
    "    .head(5)\n",
    "    .reset_index(drop=True)[['month', 'product_id', 'sales']]\n",
    ")"
   ]
  },
  {
   "cell_type": "code",
   "execution_count": 68,
   "id": "97971928-4d9b-4d35-8616-badc7b6a95c1",
   "metadata": {},
   "outputs": [
    {
     "data": {
      "text/html": [
       "<div>\n",
       "<style scoped>\n",
       "    .dataframe tbody tr th:only-of-type {\n",
       "        vertical-align: middle;\n",
       "    }\n",
       "\n",
       "    .dataframe tbody tr th {\n",
       "        vertical-align: top;\n",
       "    }\n",
       "\n",
       "    .dataframe thead th {\n",
       "        text-align: right;\n",
       "    }\n",
       "</style>\n",
       "<table border=\"1\" class=\"dataframe\">\n",
       "  <thead>\n",
       "    <tr style=\"text-align: right;\">\n",
       "      <th></th>\n",
       "      <th>month</th>\n",
       "      <th>product_id</th>\n",
       "      <th>sales</th>\n",
       "    </tr>\n",
       "  </thead>\n",
       "  <tbody>\n",
       "    <tr>\n",
       "      <th>0</th>\n",
       "      <td>January</td>\n",
       "      <td>P0438</td>\n",
       "      <td>21326.0</td>\n",
       "    </tr>\n",
       "    <tr>\n",
       "      <th>1</th>\n",
       "      <td>January</td>\n",
       "      <td>P0103</td>\n",
       "      <td>19046.0</td>\n",
       "    </tr>\n",
       "    <tr>\n",
       "      <th>2</th>\n",
       "      <td>January</td>\n",
       "      <td>P0364</td>\n",
       "      <td>7984.0</td>\n",
       "    </tr>\n",
       "    <tr>\n",
       "      <th>3</th>\n",
       "      <td>January</td>\n",
       "      <td>P0051</td>\n",
       "      <td>7754.0</td>\n",
       "    </tr>\n",
       "    <tr>\n",
       "      <th>4</th>\n",
       "      <td>January</td>\n",
       "      <td>P0590</td>\n",
       "      <td>5692.0</td>\n",
       "    </tr>\n",
       "    <tr>\n",
       "      <th>5</th>\n",
       "      <td>February</td>\n",
       "      <td>P0438</td>\n",
       "      <td>21485.0</td>\n",
       "    </tr>\n",
       "    <tr>\n",
       "      <th>6</th>\n",
       "      <td>February</td>\n",
       "      <td>P0103</td>\n",
       "      <td>16474.0</td>\n",
       "    </tr>\n",
       "    <tr>\n",
       "      <th>7</th>\n",
       "      <td>February</td>\n",
       "      <td>P0051</td>\n",
       "      <td>7555.0</td>\n",
       "    </tr>\n",
       "    <tr>\n",
       "      <th>8</th>\n",
       "      <td>February</td>\n",
       "      <td>P0388</td>\n",
       "      <td>6212.0</td>\n",
       "    </tr>\n",
       "    <tr>\n",
       "      <th>9</th>\n",
       "      <td>February</td>\n",
       "      <td>P0590</td>\n",
       "      <td>5952.0</td>\n",
       "    </tr>\n",
       "  </tbody>\n",
       "</table>\n",
       "</div>"
      ],
      "text/plain": [
       "      month product_id    sales\n",
       "0   January      P0438  21326.0\n",
       "1   January      P0103  19046.0\n",
       "2   January      P0364   7984.0\n",
       "3   January      P0051   7754.0\n",
       "4   January      P0590   5692.0\n",
       "5  February      P0438  21485.0\n",
       "6  February      P0103  16474.0\n",
       "7  February      P0051   7555.0\n",
       "8  February      P0388   6212.0\n",
       "9  February      P0590   5952.0"
      ]
     },
     "execution_count": 68,
     "metadata": {},
     "output_type": "execute_result"
    }
   ],
   "source": [
    "top_5_products_by_month.head(10)"
   ]
  },
  {
   "cell_type": "markdown",
   "id": "2dbcfd60-1bc0-4c2a-ae99-77158866a7fb",
   "metadata": {},
   "source": [
    "## **En cuántas tiendas se implementaron promociones del tipo 1 en el canal 1 durante el año 2019**"
   ]
  },
  {
   "cell_type": "code",
   "execution_count": 83,
   "id": "630ba930-43fc-4120-b622-3d8663ff605a",
   "metadata": {},
   "outputs": [],
   "source": [
    "unique_store_ids_2019 = df_sales[(df_sales['promo_type_1'].notna()) \n",
    "& (df_sales['date'].dt.year == 2019)]['store_id'].nunique()"
   ]
  },
  {
   "cell_type": "code",
   "execution_count": 84,
   "id": "0eb16eba-45be-4f46-a3e1-f6e29ec99962",
   "metadata": {},
   "outputs": [
    {
     "data": {
      "text/plain": [
       "144"
      ]
     },
     "execution_count": 84,
     "metadata": {},
     "output_type": "execute_result"
    }
   ],
   "source": [
    "unique_store_ids_2019"
   ]
  },
  {
   "cell_type": "markdown",
   "id": "a4e57449-1954-488b-82c6-f087dde43e06",
   "metadata": {},
   "source": [
    "## **Cuál fue la ciudad que tuvo el mayor volumen de ventas en general durante todo el periodo de 2017 a 2019**"
   ]
  },
  {
   "cell_type": "code",
   "execution_count": 90,
   "id": "a797290c-67ff-476d-af8f-f28756db2471",
   "metadata": {},
   "outputs": [],
   "source": [
    "columns_sales = ['store_id', 'date', 'sales', 'price', 'revenue']\n",
    "columns_store_cities = ['store_id', 'city_id']\n",
    "\n",
    "df_merged_sales_store_cities = pd.merge(\n",
    "    df_sales[columns_sales],\n",
    "    df_store_cities[columns_store_cities],\n",
    "    on='store_id',\n",
    "    how='left'\n",
    ")"
   ]
  },
  {
   "cell_type": "code",
   "execution_count": 91,
   "id": "2e27e15a-c666-4253-80d8-3cabb4e23db6",
   "metadata": {},
   "outputs": [
    {
     "data": {
      "text/html": [
       "<div>\n",
       "<style scoped>\n",
       "    .dataframe tbody tr th:only-of-type {\n",
       "        vertical-align: middle;\n",
       "    }\n",
       "\n",
       "    .dataframe tbody tr th {\n",
       "        vertical-align: top;\n",
       "    }\n",
       "\n",
       "    .dataframe thead th {\n",
       "        text-align: right;\n",
       "    }\n",
       "</style>\n",
       "<table border=\"1\" class=\"dataframe\">\n",
       "  <thead>\n",
       "    <tr style=\"text-align: right;\">\n",
       "      <th></th>\n",
       "      <th>store_id</th>\n",
       "      <th>date</th>\n",
       "      <th>sales</th>\n",
       "      <th>price</th>\n",
       "      <th>revenue</th>\n",
       "      <th>city_id</th>\n",
       "    </tr>\n",
       "  </thead>\n",
       "  <tbody>\n",
       "    <tr>\n",
       "      <th>0</th>\n",
       "      <td>S0002</td>\n",
       "      <td>2017-01-02</td>\n",
       "      <td>0.0</td>\n",
       "      <td>6.25</td>\n",
       "      <td>0.00</td>\n",
       "      <td>C007</td>\n",
       "    </tr>\n",
       "    <tr>\n",
       "      <th>1</th>\n",
       "      <td>S0012</td>\n",
       "      <td>2017-01-02</td>\n",
       "      <td>1.0</td>\n",
       "      <td>6.25</td>\n",
       "      <td>5.30</td>\n",
       "      <td>C005</td>\n",
       "    </tr>\n",
       "    <tr>\n",
       "      <th>2</th>\n",
       "      <td>S0013</td>\n",
       "      <td>2017-01-02</td>\n",
       "      <td>2.0</td>\n",
       "      <td>6.25</td>\n",
       "      <td>10.59</td>\n",
       "      <td>C026</td>\n",
       "    </tr>\n",
       "    <tr>\n",
       "      <th>3</th>\n",
       "      <td>S0023</td>\n",
       "      <td>2017-01-02</td>\n",
       "      <td>0.0</td>\n",
       "      <td>6.25</td>\n",
       "      <td>0.00</td>\n",
       "      <td>C008</td>\n",
       "    </tr>\n",
       "    <tr>\n",
       "      <th>4</th>\n",
       "      <td>S0025</td>\n",
       "      <td>2017-01-02</td>\n",
       "      <td>0.0</td>\n",
       "      <td>6.25</td>\n",
       "      <td>0.00</td>\n",
       "      <td>C024</td>\n",
       "    </tr>\n",
       "  </tbody>\n",
       "</table>\n",
       "</div>"
      ],
      "text/plain": [
       "  store_id       date  sales  price  revenue city_id\n",
       "0    S0002 2017-01-02    0.0   6.25     0.00    C007\n",
       "1    S0012 2017-01-02    1.0   6.25     5.30    C005\n",
       "2    S0013 2017-01-02    2.0   6.25    10.59    C026\n",
       "3    S0023 2017-01-02    0.0   6.25     0.00    C008\n",
       "4    S0025 2017-01-02    0.0   6.25     0.00    C024"
      ]
     },
     "execution_count": 91,
     "metadata": {},
     "output_type": "execute_result"
    }
   ],
   "source": [
    "df_merged_sales_store_cities.head()"
   ]
  },
  {
   "cell_type": "code",
   "execution_count": 100,
   "id": "1b6d489b-10f1-4200-bd2d-ec00e0f3530a",
   "metadata": {},
   "outputs": [
    {
     "name": "stdout",
     "output_type": "stream",
     "text": [
      "Ciudad con las mayores ventas 2017 a 2019: C014\n"
     ]
    }
   ],
   "source": [
    "top_city = df_merged_sales_store_cities.groupby('city_id')['sales'].sum().idxmax()\n",
    "print(f\"Ciudad con las mayores ventas 2017 a 2019: {top_city}\")"
   ]
  }
 ],
 "metadata": {
  "kernelspec": {
   "display_name": "Python 3 (ipykernel)",
   "language": "python",
   "name": "python3"
  },
  "language_info": {
   "codemirror_mode": {
    "name": "ipython",
    "version": 3
   },
   "file_extension": ".py",
   "mimetype": "text/x-python",
   "name": "python",
   "nbconvert_exporter": "python",
   "pygments_lexer": "ipython3",
   "version": "3.8.20"
  }
 },
 "nbformat": 4,
 "nbformat_minor": 5
}
