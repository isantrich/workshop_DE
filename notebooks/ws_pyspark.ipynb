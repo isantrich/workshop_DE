{
 "cells": [
  {
   "cell_type": "code",
   "execution_count": 2,
   "id": "04cd924c-92dc-456c-abe0-9e3194f88965",
   "metadata": {},
   "outputs": [],
   "source": [
    "from pyspark.sql import SparkSession\n",
    "from pyspark.sql.functions import year\n",
    "from pyspark.sql.functions import month\n",
    "from pyspark.sql.functions import col, sum, row_number\n",
    "from pyspark.sql.window import Window\n",
    "from pyspark.sql.functions import date_format\n",
    "from pyspark.sql import functions as F"
   ]
  },
  {
   "cell_type": "code",
   "execution_count": 5,
   "id": "8333d1af-d7c1-4d07-b27c-a11b31264184",
   "metadata": {},
   "outputs": [],
   "source": [
    "spark = SparkSession.builder.appName(\"MiApp\").getOrCreate()\n",
    "spark.sparkContext.setLogLevel(\"ERROR\")"
   ]
  },
  {
   "cell_type": "code",
   "execution_count": 6,
   "id": "2a7d06be-c607-4286-b73c-8c8c1da65e7c",
   "metadata": {},
   "outputs": [],
   "source": [
    "spark = SparkSession.builder \\\n",
    "    .appName(\"Cargar Archivos CSV\") \\\n",
    "    .config(\"spark.sql.warehouse.dir\", \"file:///C:/tmp/spark-warehouse\") \\\n",
    "    .config(\"spark.security.manager.enabled\", \"false\") \\\n",
    "    .config(\"spark.hadoop.security.authentication\", \"none\") \\\n",
    "    .getOrCreate()"
   ]
  },
  {
   "cell_type": "code",
   "execution_count": 7,
   "id": "fbeebe8f-d6ee-4b5b-94f3-1ac554c8d961",
   "metadata": {},
   "outputs": [
    {
     "name": "stderr",
     "output_type": "stream",
     "text": [
      "                                                                                "
     ]
    }
   ],
   "source": [
    "# Ruta a los archivos\n",
    "sales_path = \"../data/raw/sales.csv\"\n",
    "product_hierarchy_path = \"../data/raw/product_hierarchy.csv\"\n",
    "store_cities_path = \"../data/raw/store_cities.csv\"\n",
    "\n",
    "# Cargar los archivos\n",
    "df_sales = spark.read.csv(sales_path, header=True, inferSchema=True)\n",
    "df_product_hierarchy = spark.read.csv(product_hierarchy_path, header=True, inferSchema=True)\n",
    "df_store_cities = spark.read.csv(store_cities_path, header=True, inferSchema=True)"
   ]
  },
  {
   "cell_type": "code",
   "execution_count": 8,
   "id": "a4d06550-46a2-489c-85a4-2db45d9a07de",
   "metadata": {},
   "outputs": [
    {
     "name": "stdout",
     "output_type": "stream",
     "text": [
      "+----------+--------+----------+-----+-------+-----+-----+------------+-----------+------------+-----------+----------------+---------------------+\n",
      "|product_id|store_id|      date|sales|revenue|stock|price|promo_type_1|promo_bin_1|promo_type_2|promo_bin_2|promo_discount_2|promo_discount_type_2|\n",
      "+----------+--------+----------+-----+-------+-----+-----+------------+-----------+------------+-----------+----------------+---------------------+\n",
      "|     P0001|   S0002|2017-01-02|  0.0|    0.0|  8.0| 6.25|        PR14|       NULL|        PR03|       NULL|            NULL|                 NULL|\n",
      "|     P0001|   S0012|2017-01-02|  1.0|    5.3|  0.0| 6.25|        PR14|       NULL|        PR03|       NULL|            NULL|                 NULL|\n",
      "|     P0001|   S0013|2017-01-02|  2.0|  10.59|  0.0| 6.25|        PR14|       NULL|        PR03|       NULL|            NULL|                 NULL|\n",
      "|     P0001|   S0023|2017-01-02|  0.0|    0.0|  6.0| 6.25|        PR14|       NULL|        PR03|       NULL|            NULL|                 NULL|\n",
      "|     P0001|   S0025|2017-01-02|  0.0|    0.0|  1.0| 6.25|        PR14|       NULL|        PR03|       NULL|            NULL|                 NULL|\n",
      "+----------+--------+----------+-----+-------+-----+-----+------------+-----------+------------+-----------+----------------+---------------------+\n",
      "only showing top 5 rows\n",
      "\n"
     ]
    }
   ],
   "source": [
    "df_sales.show(5)"
   ]
  },
  {
   "cell_type": "code",
   "execution_count": 9,
   "id": "bab9902e-d198-492e-8ffa-fe46049c24c5",
   "metadata": {},
   "outputs": [
    {
     "name": "stdout",
     "output_type": "stream",
     "text": [
      "+----------+--------------+-------------+-------------+----------+-------------+-------------+-------------+-------------+-------------+\n",
      "|product_id|product_length|product_depth|product_width|cluster_id|hierarchy1_id|hierarchy2_id|hierarchy3_id|hierarchy4_id|hierarchy5_id|\n",
      "+----------+--------------+-------------+-------------+----------+-------------+-------------+-------------+-------------+-------------+\n",
      "|     P0000|           5.0|         20.0|         12.0|      NULL|          H00|        H0004|      H000401|    H00040105|  H0004010534|\n",
      "|     P0001|          13.5|         22.0|         20.0| cluster_5|          H01|        H0105|      H010501|    H01050100|  H0105010006|\n",
      "|     P0002|          22.0|         40.0|         22.0| cluster_0|          H03|        H0315|      H031508|    H03150800|  H0315080028|\n",
      "|     P0004|           2.0|         13.0|          4.0| cluster_3|          H03|        H0314|      H031405|    H03140500|  H0314050003|\n",
      "|     P0005|          16.0|         30.0|         16.0| cluster_9|          H03|        H0312|      H031211|    H03121109|  H0312110917|\n",
      "+----------+--------------+-------------+-------------+----------+-------------+-------------+-------------+-------------+-------------+\n",
      "only showing top 5 rows\n",
      "\n"
     ]
    }
   ],
   "source": [
    "df_product_hierarchy.show(5)"
   ]
  },
  {
   "cell_type": "code",
   "execution_count": 10,
   "id": "e5769f18-4e5a-4af6-9a91-bec50a1ff1b5",
   "metadata": {},
   "outputs": [
    {
     "name": "stdout",
     "output_type": "stream",
     "text": [
      "+--------+------------+----------+-------+\n",
      "|store_id|storetype_id|store_size|city_id|\n",
      "+--------+------------+----------+-------+\n",
      "|   S0091|        ST04|        19|   C013|\n",
      "|   S0012|        ST04|        28|   C005|\n",
      "|   S0045|        ST04|        17|   C008|\n",
      "|   S0032|        ST03|        14|   C019|\n",
      "|   S0027|        ST04|        24|   C022|\n",
      "+--------+------------+----------+-------+\n",
      "only showing top 5 rows\n",
      "\n"
     ]
    }
   ],
   "source": [
    "df_store_cities.show(5)"
   ]
  },
  {
   "cell_type": "markdown",
   "id": "c8532f9f-f113-4936-936b-b4b9792c8fc1",
   "metadata": {},
   "source": [
    "## **Productos más populares cada mes durante el año 2018**"
   ]
  },
  {
   "cell_type": "code",
   "execution_count": 20,
   "id": "3e86dc3e-ea49-4f31-8da1-bc137ab0994a",
   "metadata": {},
   "outputs": [],
   "source": [
    "#Filtrar año deseado\n",
    "df_sales_2018 = df_sales.filter(year(df_sales[\"date\"]) == 2018)"
   ]
  },
  {
   "cell_type": "code",
   "execution_count": 34,
   "id": "62a8dcf1-81df-42cd-8c69-42df5365a50e",
   "metadata": {},
   "outputs": [],
   "source": [
    "#Extraer el mes\n",
    "df_sales_2018 = df_sales_2018.withColumn(\"month_num\", month(df_sales_2018[\"date\"]))\n",
    "\n",
    "# Añadir el nombre del mes\n",
    "df_sales_2018 = df_sales_2018.withColumn(\"month\", date_format(df_sales_2018[\"date\"], \"MMMM\"))"
   ]
  },
  {
   "cell_type": "code",
   "execution_count": 52,
   "id": "9513312c-5389-4038-a612-d15a3b765026",
   "metadata": {},
   "outputs": [],
   "source": [
    "# Agrupar por mes y producto, sumar las ventas\n",
    "sales_group_2018 = df_sales_2018.groupBy(\"month\", \"month_num\", \"product_id\").agg(sum(\"sales\").alias(\"total_sales\"))"
   ]
  },
  {
   "cell_type": "code",
   "execution_count": 63,
   "id": "bbeb7bb9-d2bc-479c-8c4f-68875433f0fe",
   "metadata": {},
   "outputs": [],
   "source": [
    "# Definir una ventana para clasificar los productos\n",
    "window = Window.partitionBy(\"month\").orderBy(col(\"total_sales\").desc())\n",
    "\n",
    "# Añadir una columna de ranking\n",
    "sales_ranked = sales_group_2018.withColumn(\"rank\", row_number().over(window))\n",
    "\n",
    "# Filtrar solo los productos más populares (5)\n",
    "top_5_products_by_month = sales_ranked.filter(col(\"rank\") <= 5).select(\"month\", \"month_num\", \"product_id\", \"total_sales\")\\\n",
    ".orderBy(\"month_num\", F.col(\"total_sales\").desc())"
   ]
  },
  {
   "cell_type": "code",
   "execution_count": 64,
   "id": "f437ffe8-f86f-4d37-873a-0f143fbc05e5",
   "metadata": {},
   "outputs": [
    {
     "name": "stderr",
     "output_type": "stream",
     "text": [
      "[Stage 74:===================================================>      (8 + 1) / 9]"
     ]
    },
    {
     "name": "stdout",
     "output_type": "stream",
     "text": [
      "+--------+----------+-----------+\n",
      "|   month|product_id|total_sales|\n",
      "+--------+----------+-----------+\n",
      "| January|     P0438|    21326.0|\n",
      "| January|     P0103|    19046.0|\n",
      "| January|     P0364|     7984.0|\n",
      "| January|     P0051|     7754.0|\n",
      "| January|     P0590|     5692.0|\n",
      "|February|     P0438|    21485.0|\n",
      "|February|     P0103|    16474.0|\n",
      "|February|     P0051|     7555.0|\n",
      "|February|     P0388|     6212.0|\n",
      "|February|     P0590|     5952.0|\n",
      "|   March|     P0438|    23154.0|\n",
      "|   March|     P0103|    17923.0|\n",
      "|   March|     P0388|    11840.0|\n",
      "|   March|     P0364|    10505.0|\n",
      "|   March|     P0051|     9635.0|\n",
      "|   April|     P0438|    24392.0|\n",
      "|   April|     P0103|    19166.0|\n",
      "|   April|     P0388|    10965.0|\n",
      "|   April|     P0051|     7448.0|\n",
      "|   April|     P0131|     6788.0|\n",
      "+--------+----------+-----------+\n",
      "only showing top 20 rows\n",
      "\n"
     ]
    },
    {
     "name": "stderr",
     "output_type": "stream",
     "text": [
      "                                                                                "
     ]
    }
   ],
   "source": [
    "top_5_products_by_month.select(\"month\", \"product_id\", \"total_sales\").show()"
   ]
  },
  {
   "cell_type": "markdown",
   "id": "2dbcfd60-1bc0-4c2a-ae99-77158866a7fb",
   "metadata": {},
   "source": [
    "## **En cuántas tiendas se implementaron promociones del tipo 1 en el canal 1 durante el año 2019**"
   ]
  },
  {
   "cell_type": "code",
   "execution_count": 66,
   "id": "de9589f5-e537-4c29-b0a4-079e0f29aec1",
   "metadata": {},
   "outputs": [],
   "source": [
    "# Filtrar las filas donde promo_type_1 no es nulo y la fecha corresponde a 2019\n",
    "promotions_filtered = df_sales.filter(\n",
    "    (F.col(\"promo_type_1\").isNotNull()) &  # promo_type_1 no debe ser nulo\n",
    "    (F.year(F.col(\"date\")) == 2019)        # El año de la fecha debe ser 2019\n",
    ")"
   ]
  },
  {
   "cell_type": "code",
   "execution_count": 69,
   "id": "98ee1398-f4b5-4502-8876-47546dd13136",
   "metadata": {},
   "outputs": [
    {
     "name": "stderr",
     "output_type": "stream",
     "text": [
      "[Stage 89:===================================================>      (8 + 1) / 9]"
     ]
    },
    {
     "name": "stdout",
     "output_type": "stream",
     "text": [
      "Cantidad de tiendas que implementaron promociones del tipo 1 en 2019: 144\n"
     ]
    },
    {
     "name": "stderr",
     "output_type": "stream",
     "text": [
      "                                                                                "
     ]
    }
   ],
   "source": [
    "# Contar cuántas tiendas únicas implementaron esas promociones\n",
    "stores_count = promotions_filtered.select(\"store_id\").distinct().count()\n",
    "\n",
    "print(f\"Cantidad de tiendas que implementaron promociones del tipo 1 en 2019: {stores_count}\")"
   ]
  },
  {
   "cell_type": "markdown",
   "id": "a4e57449-1954-488b-82c6-f087dde43e06",
   "metadata": {},
   "source": [
    "## **Cuál fue la ciudad que tuvo el mayor volumen de ventas en general durante todo el periodo de 2017 a 2019**"
   ]
  },
  {
   "cell_type": "code",
   "execution_count": 70,
   "id": "11268406-9996-4162-b1d2-6c18efd03722",
   "metadata": {},
   "outputs": [],
   "source": [
    "# Filtrar el DataFrame de ventas para el periodo 2017-2019\n",
    "sales_filtered = df_sales.filter(\n",
    "    (F.year(F.col(\"date\")) >= 2017) & (F.year(F.col(\"date\")) <= 2019)\n",
    ")"
   ]
  },
  {
   "cell_type": "code",
   "execution_count": 71,
   "id": "1270023a-5aa6-463a-8092-1a9d95d24d1e",
   "metadata": {},
   "outputs": [],
   "source": [
    "# Agrupar por store_id y sumar el total de ventas \n",
    "sales_by_store = sales_filtered.groupBy(\"store_id\").agg(\n",
    "    F.sum(\"sales\").alias(\"total_sales\")\n",
    ")"
   ]
  },
  {
   "cell_type": "code",
   "execution_count": 72,
   "id": "b9fc69f8-fd29-4b9f-be91-f92dad05fc0c",
   "metadata": {},
   "outputs": [],
   "source": [
    "# Eliminar duplicados de df_store_cities\n",
    "df_store_cities_unique = df_store_cities.dropDuplicates([\"store_id\"])"
   ]
  },
  {
   "cell_type": "code",
   "execution_count": 73,
   "id": "6b825408-b1fb-40d4-a9f3-6d236838f655",
   "metadata": {},
   "outputs": [],
   "source": [
    "# Unir el DataFrame de ventas con el DataFrame de ciudades usando store_id\n",
    "sales_with_cities = sales_by_store.join(df_store_cities_unique, on=\"store_id\", how=\"left\")"
   ]
  },
  {
   "cell_type": "code",
   "execution_count": 74,
   "id": "c23e661e-0324-4de8-aaf1-76c82b690bfa",
   "metadata": {},
   "outputs": [],
   "source": [
    "# Agrupar por city_id y calcular el total de ventas por ciudad\n",
    "sales_by_city = sales_with_cities.groupBy(\"city_id\").agg(\n",
    "    F.sum(\"total_sales\").alias(\"total_sales_by_city\")\n",
    ")"
   ]
  },
  {
   "cell_type": "code",
   "execution_count": 75,
   "id": "9f183822-3eba-4a76-9bb6-409f193fe613",
   "metadata": {},
   "outputs": [
    {
     "name": "stderr",
     "output_type": "stream",
     "text": [
      "                                                                                "
     ]
    },
    {
     "name": "stdout",
     "output_type": "stream",
     "text": [
      "+-------+-------------------+\n",
      "|city_id|total_sales_by_city|\n",
      "+-------+-------------------+\n",
      "|   C014|        2573439.552|\n",
      "+-------+-------------------+\n",
      "\n"
     ]
    }
   ],
   "source": [
    "# Ordenar las ciudades por el total de ventas de forma descendente y seleccionar la ciudad con más ventas\n",
    "top_city = sales_by_city.orderBy(F.col(\"total_sales_by_city\").desc()).limit(1)\n",
    "\n",
    "# Mostrar el resultado\n",
    "top_city.show()"
   ]
  },
  {
   "cell_type": "code",
   "execution_count": 8,
   "id": "34680a78-f87f-4d82-9bb5-64d5e09d823c",
   "metadata": {},
   "outputs": [
    {
     "name": "stdout",
     "output_type": "stream",
     "text": [
      "+----------+--------+----------+-----+-------+-----+-----+------------+-----------+------------+-----------+----------------+---------------------+\n",
      "|product_id|store_id|      date|sales|revenue|stock|price|promo_type_1|promo_bin_1|promo_type_2|promo_bin_2|promo_discount_2|promo_discount_type_2|\n",
      "+----------+--------+----------+-----+-------+-----+-----+------------+-----------+------------+-----------+----------------+---------------------+\n",
      "|     P0001|   S0002|2017-01-02|  0.0|    0.0|  8.0| 6.25|        PR14|       NULL|        PR03|       NULL|            NULL|                 NULL|\n",
      "|     P0001|   S0012|2017-01-02|  1.0|    5.3|  0.0| 6.25|        PR14|       NULL|        PR03|       NULL|            NULL|                 NULL|\n",
      "|     P0001|   S0013|2017-01-02|  2.0|  10.59|  0.0| 6.25|        PR14|       NULL|        PR03|       NULL|            NULL|                 NULL|\n",
      "|     P0001|   S0023|2017-01-02|  0.0|    0.0|  6.0| 6.25|        PR14|       NULL|        PR03|       NULL|            NULL|                 NULL|\n",
      "|     P0001|   S0025|2017-01-02|  0.0|    0.0|  1.0| 6.25|        PR14|       NULL|        PR03|       NULL|            NULL|                 NULL|\n",
      "+----------+--------+----------+-----+-------+-----+-----+------------+-----------+------------+-----------+----------------+---------------------+\n",
      "only showing top 5 rows\n",
      "\n"
     ]
    }
   ],
   "source": [
    "df_sales.show(5)"
   ]
  },
  {
   "cell_type": "markdown",
   "id": "a3a54374-2490-4e8d-b45d-24056dea86d2",
   "metadata": {},
   "source": [
    "## **Cuál fue el promedio de stock disponible en todas las tiendas durante el año 2017**"
   ]
  },
  {
   "cell_type": "code",
   "execution_count": 9,
   "id": "71f31406-2fdd-4d5b-8d60-28cb554a08ec",
   "metadata": {},
   "outputs": [],
   "source": [
    "# Filtrar el año 2017\n",
    "sales_2017 = df_sales.filter(F.year(F.col(\"date\")) == 2017)"
   ]
  },
  {
   "cell_type": "code",
   "execution_count": 19,
   "id": "e52424c8-3a29-4ee6-85b0-a23d1ae49826",
   "metadata": {},
   "outputs": [],
   "source": [
    "# Calcular el promedio de stock por tienda\n",
    "avg_stock_per_store = sales_2017.groupBy(\"store_id\").agg(\n",
    "    F.avg(\"stock\").alias(\"avg_stock\")\n",
    ")"
   ]
  },
  {
   "cell_type": "code",
   "execution_count": 20,
   "id": "60fa5458-083a-4d71-855a-952799a83d90",
   "metadata": {},
   "outputs": [],
   "source": [
    "# Calcular el promedio de stock por tienda\n",
    "overall_avg_stock = avg_stock_per_store.agg(\n",
    "    F.round(F.avg(\"avg_stock\"), 2).alias(\"overall_avg_stock\")\n",
    ")"
   ]
  },
  {
   "cell_type": "code",
   "execution_count": 21,
   "id": "37ebf538-9079-46a9-bcbc-2c65ceb952ca",
   "metadata": {},
   "outputs": [
    {
     "name": "stderr",
     "output_type": "stream",
     "text": [
      "[Stage 22:=============================================>            (7 + 2) / 9]"
     ]
    },
    {
     "name": "stdout",
     "output_type": "stream",
     "text": [
      "+-----------------+\n",
      "|overall_avg_stock|\n",
      "+-----------------+\n",
      "|            15.85|\n",
      "+-----------------+\n",
      "\n"
     ]
    },
    {
     "name": "stderr",
     "output_type": "stream",
     "text": [
      "                                                                                "
     ]
    }
   ],
   "source": [
    "overall_avg_stock.show()"
   ]
  },
  {
   "cell_type": "markdown",
   "id": "a4d51046-bbc8-4f73-a6c6-65fa1c1c3ff2",
   "metadata": {},
   "source": [
    "## **Cuántas veces se aplicaron descuentos en el canal 2 durante el mes de diciembre de 2018**"
   ]
  },
  {
   "cell_type": "code",
   "execution_count": 22,
   "id": "0c6d21af-655e-46a7-9f34-bb9dd47bd2b7",
   "metadata": {},
   "outputs": [],
   "source": [
    "# Filtrar el DataFrame para el mes de diciembre de 2018 y condiciones de descuentos\n",
    "discounts_diciembre_2018 = df_sales.filter(\n",
    "    (F.year(F.col(\"date\")) == 2018) & \n",
    "    (F.month(F.col(\"date\")) == 12) & \n",
    "    (F.col(\"promo_type_2\").isNotNull()) & \n",
    "    (F.col(\"promo_discount_2\").isNotNull())\n",
    ")"
   ]
  },
  {
   "cell_type": "code",
   "execution_count": 23,
   "id": "172aec49-753c-4e88-aada-3646ded8e43a",
   "metadata": {},
   "outputs": [
    {
     "name": "stderr",
     "output_type": "stream",
     "text": [
      "[Stage 28:===================================================>      (8 + 1) / 9]"
     ]
    },
    {
     "name": "stdout",
     "output_type": "stream",
     "text": [
      "Se aplicaron descuentos en el canal 2 en diciembre 2018 0 veces\n"
     ]
    },
    {
     "name": "stderr",
     "output_type": "stream",
     "text": [
      "                                                                                "
     ]
    }
   ],
   "source": [
    "# Contar cuántas veces se aplicaron descuentos\n",
    "num_descuentos = discounts_diciembre_2018.count()\n",
    "\n",
    "# Generar el texto con el resultado\n",
    "texto_resultado = f\"Se aplicaron descuentos en el canal 2 en diciembre 2018 {num_descuentos} veces\"\n",
    "print(texto_resultado)\n"
   ]
  },
  {
   "cell_type": "markdown",
   "id": "b894327a-81d2-4c96-9608-ca80b9bc8429",
   "metadata": {},
   "source": [
    "## **Cuál fue el producto con el precio de venta más alto en cada tienda durante el tercer trimestre de 2019**"
   ]
  },
  {
   "cell_type": "code",
   "execution_count": 24,
   "id": "2b435e7a-9b0d-4f63-a050-77f8ec9a7d1b",
   "metadata": {},
   "outputs": [],
   "source": [
    "# Filtrar las ventas para el tercer trimestre de 2019\n",
    "sales_q3_2019 = df_sales.filter(\n",
    "    (F.year(F.col(\"date\")) == 2019) &\n",
    "    (F.month(F.col(\"date\")).between(7, 9))\n",
    ")"
   ]
  },
  {
   "cell_type": "code",
   "execution_count": 25,
   "id": "c8c9609a-9760-41d0-a99c-11131e3326fd",
   "metadata": {},
   "outputs": [],
   "source": [
    "# Definir una ventana para ordenar\n",
    "window = Window.partitionBy(\"store_id\").orderBy(F.col(\"price\").desc())\n",
    "\n",
    "# Añadir una columna para el ranking \n",
    "sales_ranked = sales_q3_2019.withColumn(\"rank\", F.row_number().over(window))"
   ]
  },
  {
   "cell_type": "code",
   "execution_count": 26,
   "id": "af27c90c-2e26-4aac-898e-f08d509f39f2",
   "metadata": {},
   "outputs": [
    {
     "name": "stderr",
     "output_type": "stream",
     "text": [
      "[Stage 31:===================================================>      (8 + 1) / 9]"
     ]
    },
    {
     "name": "stdout",
     "output_type": "stream",
     "text": [
      "+--------+----------+------+\n",
      "|store_id|product_id| price|\n",
      "+--------+----------+------+\n",
      "|   S0001|     P0498| 299.9|\n",
      "|   S0002|     P0708|1599.0|\n",
      "|   S0003|     P0498| 299.9|\n",
      "|   S0004|     P0498| 299.9|\n",
      "|   S0005|     P0498| 299.9|\n",
      "|   S0006|     P0680|139.95|\n",
      "|   S0007|     P0391| 179.9|\n",
      "|   S0008|     P0498| 299.9|\n",
      "|   S0009|     P0680|139.95|\n",
      "|   S0010|     P0680|139.95|\n",
      "|   S0011|     P0391| 179.9|\n",
      "|   S0012|     P0708|1349.0|\n",
      "|   S0013|     P0708|1499.0|\n",
      "|   S0014|     P0391| 179.9|\n",
      "|   S0015|     P0391| 179.9|\n",
      "|   S0016|     P0498| 299.9|\n",
      "|   S0017|     P0517|199.95|\n",
      "|   S0018|     P0391| 179.9|\n",
      "|   S0019|     P0680|139.95|\n",
      "|   S0020|     P0474| 499.0|\n",
      "+--------+----------+------+\n",
      "only showing top 20 rows\n",
      "\n"
     ]
    },
    {
     "name": "stderr",
     "output_type": "stream",
     "text": [
      "                                                                                "
     ]
    }
   ],
   "source": [
    "# Filtrar solo el producto con el precio más alto por tienda\n",
    "top_product_per_store = sales_ranked.filter(F.col(\"rank\") == 1).select(\"store_id\", \"product_id\", \"price\")\n",
    "\n",
    "top_product_per_store.show()"
   ]
  },
  {
   "cell_type": "markdown",
   "id": "e051673d-8abb-4836-8397-1650b3e8883f",
   "metadata": {},
   "source": [
    "## **Cuántas tiendas experimentaron un aumento de ventas del 20% o más en comparación con el año anterior**"
   ]
  },
  {
   "cell_type": "code",
   "execution_count": 29,
   "id": "9c95e79c-44fe-4c25-aa28-abda5ebf603d",
   "metadata": {},
   "outputs": [],
   "source": [
    "# Filtrar los datos para los años 2017, 2018 y 2019\n",
    "df_2017 = df_sales.filter(F.year(F.col(\"date\")) == 2017)\n",
    "df_2018 = df_sales.filter(F.year(F.col(\"date\")) == 2018)\n",
    "df_2019 = df_sales.filter(F.year(F.col(\"date\")) == 2019)"
   ]
  },
  {
   "cell_type": "code",
   "execution_count": 30,
   "id": "3d9dde8f-fa8b-4fe1-a87d-63638bc61a32",
   "metadata": {},
   "outputs": [],
   "source": [
    "# Agrupar por tienda y calcular las ventas totales por tienda para cada año\n",
    "ventas_2017 = df_2017.groupBy(\"store_id\").agg(F.sum(\"sales\").alias(\"ventas_2017\"))\n",
    "ventas_2018 = df_2018.groupBy(\"store_id\").agg(F.sum(\"sales\").alias(\"ventas_2018\"))\n",
    "ventas_2019 = df_2019.groupBy(\"store_id\").agg(F.sum(\"sales\").alias(\"ventas_2019\"))"
   ]
  },
  {
   "cell_type": "code",
   "execution_count": 33,
   "id": "a4cb05cd-e948-4724-87f3-6fa38f18a703",
   "metadata": {},
   "outputs": [],
   "source": [
    "# Hacer un left join entre los DataFrames \n",
    "ventas_comparadas = ventas_2017.join(ventas_2018, on=\"store_id\", how=\"left\") \\\n",
    "    .join(ventas_2019, on=\"store_id\", how=\"left\")"
   ]
  },
  {
   "cell_type": "code",
   "execution_count": 36,
   "id": "32af7ddc-33bb-4bb2-8b71-85347768f64f",
   "metadata": {},
   "outputs": [],
   "source": [
    "# Calcular el porcentaje de cambio de las ventas entre 2017 y 2018, y 2018 y 2019\n",
    "ventas_comparadas = ventas_comparadas.withColumn(\n",
    "    \"cambio_2017_2018\", \n",
    "    F.round((F.col(\"ventas_2018\") - F.col(\"ventas_2017\")) / F.col(\"ventas_2017\") * 100, 2)\n",
    ").withColumn(\n",
    "    \"cambio_2018_2019\", \n",
    "    F.round((F.col(\"ventas_2019\") - F.col(\"ventas_2018\")) / F.col(\"ventas_2018\") * 100, 2)\n",
    ").withColumn(\n",
    "    \"ventas_2017\", F.round(F.col(\"ventas_2017\"), 2)\n",
    ").withColumn(\n",
    "    \"ventas_2018\", F.round(F.col(\"ventas_2018\"), 2)\n",
    ").withColumn(\n",
    "    \"ventas_2019\", F.round(F.col(\"ventas_2019\"), 2)\n",
    ")"
   ]
  },
  {
   "cell_type": "code",
   "execution_count": 38,
   "id": "0e07051d-dbf9-4e0d-a124-59c510d0f88b",
   "metadata": {},
   "outputs": [
    {
     "name": "stderr",
     "output_type": "stream",
     "text": [
      "[Stage 66:===================================================>      (8 + 1) / 9]"
     ]
    },
    {
     "name": "stdout",
     "output_type": "stream",
     "text": [
      "+--------+-----------+-----------+-----------+----------------+----------------+\n",
      "|store_id|ventas_2017|ventas_2018|ventas_2019|cambio_2017_2018|cambio_2018_2019|\n",
      "+--------+-----------+-----------+-----------+----------------+----------------+\n",
      "|   S0049|   23754.11|   24944.66|   19910.79|            5.01|          -20.18|\n",
      "|   S0010|   27075.43|   27598.37|   19261.51|            1.93|          -30.21|\n",
      "|   S0030|     5153.0|     4267.0|     4552.0|          -17.19|            6.68|\n",
      "|   S0120|    5090.52|     4957.0|     3971.0|           -2.62|          -19.89|\n",
      "|   S0086|    4279.26|    4451.45|    4212.03|            4.02|           -5.38|\n",
      "+--------+-----------+-----------+-----------+----------------+----------------+\n",
      "only showing top 5 rows\n",
      "\n"
     ]
    },
    {
     "name": "stderr",
     "output_type": "stream",
     "text": [
      "                                                                                "
     ]
    }
   ],
   "source": [
    "ventas_comparadas.show(5)"
   ]
  },
  {
   "cell_type": "code",
   "execution_count": 39,
   "id": "909d95d7-adfc-417f-9ee9-3f2486ae08e3",
   "metadata": {},
   "outputs": [],
   "source": [
    "# Filtrar las tiendas que tienen un aumento de ventas del 20%\n",
    "tiendas_aumento_20_2017_2018 = ventas_comparadas.filter(F.col(\"cambio_2017_2018\") >= 20)\n",
    "tiendas_aumento_20_2018_2019 = ventas_comparadas.filter(F.col(\"cambio_2018_2019\") >= 20)"
   ]
  },
  {
   "cell_type": "code",
   "execution_count": 40,
   "id": "40048f78-9735-4d0f-8790-1207de6438da",
   "metadata": {},
   "outputs": [
    {
     "name": "stderr",
     "output_type": "stream",
     "text": [
      "[Stage 84:===================================================>      (8 + 1) / 9]"
     ]
    },
    {
     "name": "stdout",
     "output_type": "stream",
     "text": [
      "El número de tiendas que experimentaron un aumento de ventas del 20% o más entre 2017 y 2018 es: 24\n",
      "El número de tiendas que experimentaron un aumento de ventas del 20% o más entre 2018 y 2019 es: 1\n"
     ]
    },
    {
     "name": "stderr",
     "output_type": "stream",
     "text": [
      "                                                                                "
     ]
    }
   ],
   "source": [
    "# Contar el número de tiendas que cumplen con la condición\n",
    "numero_tiendas_aumento_20_2017_2018 = tiendas_aumento_20_2017_2018.count()\n",
    "numero_tiendas_aumento_20_2018_2019 = tiendas_aumento_20_2018_2019.count()\n",
    "\n",
    "print(f\"El número de tiendas que experimentaron un aumento de ventas del 20% o más entre 2017 y 2018 es: {numero_tiendas_aumento_20_2017_2018}\")\n",
    "print(f\"El número de tiendas que experimentaron un aumento de ventas del 20% o más entre 2018 y 2019 es: {numero_tiendas_aumento_20_2018_2019}\")"
   ]
  },
  {
   "cell_type": "markdown",
   "id": "93491fdb-7b43-4349-b2eb-1d600c3b8f7b",
   "metadata": {},
   "source": [
    "## **Cuál fue el producto que experimentó la mayor variación de precio a lo largo del periodo de 2017 a 2019**"
   ]
  },
  {
   "cell_type": "code",
   "execution_count": 41,
   "id": "3dcc7463-1ac2-4296-b9e6-aba541999447",
   "metadata": {},
   "outputs": [],
   "source": [
    "# Filtrar los datos para los años especificados\n",
    "df_sales_filtered = df_sales.filter((F.year(\"date\") >= 2017) & (F.year(\"date\") <= 2019))"
   ]
  },
  {
   "cell_type": "code",
   "execution_count": 42,
   "id": "d27403ba-4276-407d-87d9-2c1307ddd9af",
   "metadata": {},
   "outputs": [],
   "source": [
    "# Agrupar por producto y calcular el precio máximo y mínimo\n",
    "price_variation = df_sales_filtered.groupBy(\"product_id\").agg(\n",
    "    F.min(\"price\").alias(\"min_price\"),\n",
    "    F.max(\"price\").alias(\"max_price\")\n",
    ")"
   ]
  },
  {
   "cell_type": "code",
   "execution_count": 43,
   "id": "bc05161b-48b9-427b-bef0-f7ff93f27346",
   "metadata": {},
   "outputs": [],
   "source": [
    "# Calcular la variación de precio\n",
    "price_variation = price_variation.withColumn(\"price_variation\", F.col(\"max_price\") - F.col(\"min_price\"))"
   ]
  },
  {
   "cell_type": "code",
   "execution_count": 46,
   "id": "f2ec6967-d272-43a7-8c31-c5f27693edb1",
   "metadata": {},
   "outputs": [
    {
     "name": "stderr",
     "output_type": "stream",
     "text": [
      "[Stage 100:==================================================>      (8 + 1) / 9]"
     ]
    },
    {
     "name": "stdout",
     "output_type": "stream",
     "text": [
      "+----------+---------+---------+---------------+\n",
      "|product_id|min_price|max_price|price_variation|\n",
      "+----------+---------+---------+---------------+\n",
      "|     P0632|    549.9|    849.9|          300.0|\n",
      "+----------+---------+---------+---------------+\n",
      "\n"
     ]
    },
    {
     "name": "stderr",
     "output_type": "stream",
     "text": [
      "                                                                                "
     ]
    }
   ],
   "source": [
    "# Ordenar por la variación de precio en orden descendente y obtener el producto con la mayor variación\n",
    "max_price_variation_product = price_variation.orderBy(F.col(\"price_variation\").desc()).limit(1)\n",
    "\n",
    "# Mostrar el producto con la mayor variación de precio\n",
    "max_price_variation_product.show()"
   ]
  },
  {
   "cell_type": "markdown",
   "id": "589d774e-dcd7-474e-a0d3-78c1259c0bc7",
   "metadata": {},
   "source": [
    "## **En qué mes y año se registró la mayor cantidad de ingresos generados en todas las tiendas**"
   ]
  },
  {
   "cell_type": "code",
   "execution_count": 58,
   "id": "af519013-aac8-4525-a2c4-ab8238bf6ab1",
   "metadata": {},
   "outputs": [],
   "source": [
    "df_sales = df_sales.withColumn(\"year_month\", F.date_format(\"date\", \"yyyy-MM\"))"
   ]
  },
  {
   "cell_type": "code",
   "execution_count": 64,
   "id": "57caf9d5-aab2-4f85-bdb5-d787abb422ad",
   "metadata": {},
   "outputs": [],
   "source": [
    "# Agrupar por 'year_month' y sumar las ventas\n",
    "revenue_per_month = df_sales.groupBy(\"year_month\").agg(F.sum(\"revenue\").alias(\"total_revenue\"))"
   ]
  },
  {
   "cell_type": "code",
   "execution_count": 66,
   "id": "17e1586a-103c-4b07-86f8-c43df4f17f32",
   "metadata": {},
   "outputs": [
    {
     "name": "stderr",
     "output_type": "stream",
     "text": [
      "                                                                                "
     ]
    }
   ],
   "source": [
    "# Ordenar ingresos\n",
    "month_max_revenue = revenue_per_month.orderBy(F.col(\"total_revenue\").desc()).first()"
   ]
  },
  {
   "cell_type": "code",
   "execution_count": 67,
   "id": "27ccf7a5-5fd8-4910-af07-09af391e6588",
   "metadata": {},
   "outputs": [
    {
     "name": "stdout",
     "output_type": "stream",
     "text": [
      "El mes y año con mayor cantidad de ingresos fue 2019-08 con un total de ingresos de 2619132.638999991.\n"
     ]
    }
   ],
   "source": [
    " print(f\"El mes y año con mayor cantidad de ingresos fue {month_max_revenue['year_month']} con un total de ingresos de {month_max_revenue['total_revenue']}.\")"
   ]
  },
  {
   "cell_type": "markdown",
   "id": "a2ffd9e2-abe2-43fb-9bc2-b6eed33e259a",
   "metadata": {},
   "source": [
    "## **Cuál fue el tamaño promedio de las tiendas en cada ciudad durante el año 2018**"
   ]
  },
  {
   "cell_type": "code",
   "execution_count": 72,
   "id": "874955b5-7f43-4555-ae0b-7594a8a26701",
   "metadata": {},
   "outputs": [],
   "source": [
    "# Filtrar las ventas del año 2018 y obtener los datos únicos de tiendas\n",
    "df_sales_2018_unique_stores = df_sales.filter(year(df_sales['date']) == 2018).select('store_id').distinct()"
   ]
  },
  {
   "cell_type": "code",
   "execution_count": 73,
   "id": "2edfd2c6-8aca-494e-bfff-4cfe32f6659b",
   "metadata": {},
   "outputs": [],
   "source": [
    "# Unir df_sales_2018 con df_store_cities\n",
    "df_stores_with_size = df_sales_2018_unique_stores.join(df_store_cities, on=\"store_id\", how=\"inner\").select('store_id', 'city_id', 'store_size')"
   ]
  },
  {
   "cell_type": "code",
   "execution_count": 74,
   "id": "06f3ff17-9ae6-4a38-b075-45830cc04f2d",
   "metadata": {},
   "outputs": [],
   "source": [
    "# Agrupar por city_id y calcular el tamaño promedio de las tiendas en cada ciudad\n",
    "avg_store_size_per_city = df_stores_with_size.groupBy(\"city_id\").agg(F.avg(\"store_size\").alias(\"avg_store_size\"))"
   ]
  },
  {
   "cell_type": "code",
   "execution_count": 81,
   "id": "6e9f6cb0-9e89-42d8-8fef-2883ad78533f",
   "metadata": {},
   "outputs": [
    {
     "name": "stderr",
     "output_type": "stream",
     "text": [
      "[Stage 162:>                                                        (0 + 1) / 1]"
     ]
    },
    {
     "name": "stdout",
     "output_type": "stream",
     "text": [
      "+-------+--------------+\n",
      "|city_id|avg_store_size|\n",
      "+-------+--------------+\n",
      "|   C001|          20.0|\n",
      "|   C002|          47.0|\n",
      "|   C003|          13.0|\n",
      "|   C004|          63.0|\n",
      "|   C005|          19.0|\n",
      "|   C006|         29.67|\n",
      "|   C007|          39.0|\n",
      "|   C008|         23.67|\n",
      "|   C009|          20.0|\n",
      "|   C010|          23.0|\n",
      "|   C011|          31.0|\n",
      "|   C012|          22.0|\n",
      "|   C013|          13.5|\n",
      "|   C014|         23.65|\n",
      "|   C015|          42.0|\n",
      "|   C016|          35.0|\n",
      "|   C017|          34.0|\n",
      "|   C018|          27.0|\n",
      "|   C019|          24.5|\n",
      "|   C020|          22.0|\n",
      "+-------+--------------+\n",
      "only showing top 20 rows\n",
      "\n"
     ]
    },
    {
     "name": "stderr",
     "output_type": "stream",
     "text": [
      "                                                                                "
     ]
    }
   ],
   "source": [
    "avg_store_size_per_city_sorted = avg_store_size_per_city.orderBy(\"city_id\")\n",
    "avg_store_size_per_city_rounded = avg_store_size_per_city_sorted.withColumn(\"avg_store_size\", F.round(\"avg_store_size\", 2))\n",
    "avg_store_size_per_city_rounded.show()"
   ]
  }
 ],
 "metadata": {
  "kernelspec": {
   "display_name": "Python 3 (ipykernel)",
   "language": "python",
   "name": "python3"
  },
  "language_info": {
   "codemirror_mode": {
    "name": "ipython",
    "version": 3
   },
   "file_extension": ".py",
   "mimetype": "text/x-python",
   "name": "python",
   "nbconvert_exporter": "python",
   "pygments_lexer": "ipython3",
   "version": "3.8.20"
  }
 },
 "nbformat": 4,
 "nbformat_minor": 5
}
